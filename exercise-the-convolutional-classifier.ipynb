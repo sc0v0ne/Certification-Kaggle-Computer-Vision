{
 "cells": [
  {
   "cell_type": "markdown",
   "id": "5c6f2f0d",
   "metadata": {
    "papermill": {
     "duration": 0.006296,
     "end_time": "2023-11-24T18:25:09.988739",
     "exception": false,
     "start_time": "2023-11-24T18:25:09.982443",
     "status": "completed"
    },
    "tags": []
   },
   "source": [
    "**This notebook is an exercise in the [Computer Vision](https://www.kaggle.com/learn/computer-vision) course.  You can reference the tutorial at [this link](https://www.kaggle.com/ryanholbrook/the-convolutional-classifier).**\n",
    "\n",
    "---\n"
   ]
  },
  {
   "cell_type": "markdown",
   "id": "35af8d94",
   "metadata": {
    "papermill": {
     "duration": 0.005448,
     "end_time": "2023-11-24T18:25:10.000045",
     "exception": false,
     "start_time": "2023-11-24T18:25:09.994597",
     "status": "completed"
    },
    "tags": []
   },
   "source": [
    "<blockquote style=\"margin-right:auto; margin-left:auto; background-color: #ebf9ff; padding: 1em; margin:24px;\">\n",
    "    <strong>Accelerate Training with a Kaggle GPU!</strong><br>\n",
    "Did you know Kaggle offers free time with a GPU accelerator? You can speed up training neural networks in this course by switching to <strong>GPU</strong> in the <em>Accelerator</em> option on the right. (It may already be turned on.) Two things to be aware of:\n",
    "<ul>\n",
    "<li>Changing the <em>Accelerator</em> option will cause the notebook session to restart. You'll need to rerun any setup code.\n",
    "<li>You can have only one GPU session at a time, so be sure to shut the notebook down after you've finished the exercise.\n",
    "</ul>\n",
    "</blockquote>"
   ]
  },
  {
   "cell_type": "markdown",
   "id": "680e4213",
   "metadata": {
    "papermill": {
     "duration": 0.005414,
     "end_time": "2023-11-24T18:25:10.011235",
     "exception": false,
     "start_time": "2023-11-24T18:25:10.005821",
     "status": "completed"
    },
    "tags": []
   },
   "source": [
    "# Introduction #\n",
    "\n",
    "In the tutorial, we saw how to build an image classifier by attaching a head of dense layers to a pretrained base. The base we used was from a model called **VGG16**. We saw that the VGG16 architecture was prone to overfitting this dataset. Over this course, you'll learn a number of ways you can improve upon this initial attempt.\n",
    "\n",
    "The first way you'll see is to use a base more appropriate to the dataset. The base this model comes from is called **InceptionV1** (also known as GoogLeNet). InceptionV1 was one of the early winners of the ImageNet competition. One of its successors, InceptionV4, is among the state of the art today.\n",
    "\n",
    "To get started, run the code cell below to set everything up."
   ]
  },
  {
   "cell_type": "code",
   "execution_count": 1,
   "id": "8254f17b",
   "metadata": {
    "execution": {
     "iopub.execute_input": "2023-11-24T18:25:10.024027Z",
     "iopub.status.busy": "2023-11-24T18:25:10.023693Z",
     "iopub.status.idle": "2023-11-24T18:25:29.360373Z",
     "shell.execute_reply": "2023-11-24T18:25:29.359516Z"
    },
    "lines_to_next_cell": 2,
    "papermill": {
     "duration": 19.345991,
     "end_time": "2023-11-24T18:25:29.362781",
     "exception": false,
     "start_time": "2023-11-24T18:25:10.016790",
     "status": "completed"
    },
    "tags": []
   },
   "outputs": [
    {
     "name": "stderr",
     "output_type": "stream",
     "text": [
      "/opt/conda/lib/python3.10/site-packages/scipy/__init__.py:146: UserWarning: A NumPy version >=1.16.5 and <1.23.0 is required for this version of SciPy (detected version 1.24.3\n",
      "  warnings.warn(f\"A NumPy version >={np_minversion} and <{np_maxversion}\"\n"
     ]
    },
    {
     "name": "stdout",
     "output_type": "stream",
     "text": [
      "Found 5117 files belonging to 2 classes.\n",
      "Found 5051 files belonging to 2 classes.\n"
     ]
    }
   ],
   "source": [
    "# Setup feedback system\n",
    "from learntools.core import binder\n",
    "binder.bind(globals())\n",
    "from learntools.computer_vision.ex1 import *\n",
    "\n",
    "# Imports\n",
    "import os, warnings\n",
    "import matplotlib.pyplot as plt\n",
    "from matplotlib import gridspec\n",
    "\n",
    "import numpy as np\n",
    "import tensorflow as tf\n",
    "from tensorflow.keras.preprocessing import image_dataset_from_directory\n",
    "\n",
    "# Reproducability\n",
    "def set_seed(seed=31415):\n",
    "    np.random.seed(seed)\n",
    "    tf.random.set_seed(seed)\n",
    "    os.environ['PYTHONHASHSEED'] = str(seed)\n",
    "    os.environ['TF_DETERMINISTIC_OPS'] = '1'\n",
    "set_seed()\n",
    "\n",
    "# Set Matplotlib defaults\n",
    "plt.rc('figure', autolayout=True)\n",
    "plt.rc('axes', labelweight='bold', labelsize='large',\n",
    "       titleweight='bold', titlesize=18, titlepad=10)\n",
    "plt.rc('image', cmap='magma')\n",
    "warnings.filterwarnings(\"ignore\") # to clean up output cells\n",
    "\n",
    "\n",
    "# Load training and validation sets\n",
    "ds_train_ = image_dataset_from_directory(\n",
    "    '../input/car-or-truck/train',\n",
    "    labels='inferred',\n",
    "    label_mode='binary',\n",
    "    image_size=[128, 128],\n",
    "    interpolation='nearest',\n",
    "    batch_size=64,\n",
    "    shuffle=True,\n",
    ")\n",
    "ds_valid_ = image_dataset_from_directory(\n",
    "    '../input/car-or-truck/valid',\n",
    "    labels='inferred',\n",
    "    label_mode='binary',\n",
    "    image_size=[128, 128],\n",
    "    interpolation='nearest',\n",
    "    batch_size=64,\n",
    "    shuffle=False,\n",
    ")\n",
    "\n",
    "# Data Pipeline\n",
    "def convert_to_float(image, label):\n",
    "    image = tf.image.convert_image_dtype(image, dtype=tf.float32)\n",
    "    return image, label\n",
    "\n",
    "AUTOTUNE = tf.data.experimental.AUTOTUNE\n",
    "ds_train = (\n",
    "    ds_train_\n",
    "    .map(convert_to_float)\n",
    "    .cache()\n",
    "    .prefetch(buffer_size=AUTOTUNE)\n",
    ")\n",
    "ds_valid = (\n",
    "    ds_valid_\n",
    "    .map(convert_to_float)\n",
    "    .cache()\n",
    "    .prefetch(buffer_size=AUTOTUNE)\n",
    ")\n"
   ]
  },
  {
   "cell_type": "markdown",
   "id": "c8a477bd",
   "metadata": {
    "papermill": {
     "duration": 0.008724,
     "end_time": "2023-11-24T18:25:29.377850",
     "exception": false,
     "start_time": "2023-11-24T18:25:29.369126",
     "status": "completed"
    },
    "tags": []
   },
   "source": [
    "The **InceptionV1** model pretrained on ImageNet is available in the [TensorFlow Hub](https://www.tensorflow.org/hub/) repository, but we'll load it from a local copy. Run this cell to load InceptionV1 for your base."
   ]
  },
  {
   "cell_type": "code",
   "execution_count": 2,
   "id": "9d684d0c",
   "metadata": {
    "execution": {
     "iopub.execute_input": "2023-11-24T18:25:29.397102Z",
     "iopub.status.busy": "2023-11-24T18:25:29.396637Z",
     "iopub.status.idle": "2023-11-24T18:25:33.219136Z",
     "shell.execute_reply": "2023-11-24T18:25:33.218344Z"
    },
    "lines_to_next_cell": 0,
    "papermill": {
     "duration": 3.840176,
     "end_time": "2023-11-24T18:25:33.227510",
     "exception": false,
     "start_time": "2023-11-24T18:25:29.387334",
     "status": "completed"
    },
    "tags": []
   },
   "outputs": [],
   "source": [
    "import tensorflow_hub as hub\n",
    "\n",
    "pretrained_base = tf.keras.models.load_model(\n",
    "    '../input/cv-course-models/cv-course-models/inceptionv1'\n",
    ")"
   ]
  },
  {
   "cell_type": "markdown",
   "id": "1c644fa7",
   "metadata": {
    "papermill": {
     "duration": 0.005723,
     "end_time": "2023-11-24T18:25:33.239805",
     "exception": false,
     "start_time": "2023-11-24T18:25:33.234082",
     "status": "completed"
    },
    "tags": []
   },
   "source": [
    "# 1) Define Pretrained Base #\n",
    "\n",
    "Now that you have a pretrained base to do our feature extraction, decide whether this base should be trainable or not."
   ]
  },
  {
   "cell_type": "code",
   "execution_count": 3,
   "id": "6cf5827c",
   "metadata": {
    "execution": {
     "iopub.execute_input": "2023-11-24T18:25:33.252950Z",
     "iopub.status.busy": "2023-11-24T18:25:33.252602Z",
     "iopub.status.idle": "2023-11-24T18:25:33.261226Z",
     "shell.execute_reply": "2023-11-24T18:25:33.260371Z"
    },
    "lines_to_next_cell": 0,
    "papermill": {
     "duration": 0.017613,
     "end_time": "2023-11-24T18:25:33.263255",
     "exception": false,
     "start_time": "2023-11-24T18:25:33.245642",
     "status": "completed"
    },
    "tags": []
   },
   "outputs": [
    {
     "data": {
      "application/javascript": [
       "parent.postMessage({\"jupyterEvent\": \"custom.exercise_interaction\", \"data\": {\"outcomeType\": 1, \"valueTowardsCompletion\": 0.25, \"interactionType\": 1, \"questionType\": 2, \"questionId\": \"1_Q1\", \"learnToolsVersion\": \"0.3.4\", \"failureMessage\": \"\", \"exceptionClass\": \"\", \"trace\": \"\"}}, \"*\")"
      ],
      "text/plain": [
       "<IPython.core.display.Javascript object>"
      ]
     },
     "metadata": {},
     "output_type": "display_data"
    },
    {
     "data": {
      "text/markdown": [
       "<span style=\"color:#33cc33\">Correct:</span> When doing transfer learning, it's generally not a good idea to retrain the entire base -- at least not without some care. The reason is that the random weights in the head will initially create large gradient updates, which propogate back into the base layers and destroy much of the pretraining. Using techniques known as **fine tuning** it's possible to further train the base on new data, but this requires some care to do well."
      ],
      "text/plain": [
       "Correct: When doing transfer learning, it's generally not a good idea to retrain the entire base -- at least not without some care. The reason is that the random weights in the head will initially create large gradient updates, which propogate back into the base layers and destroy much of the pretraining. Using techniques known as **fine tuning** it's possible to further train the base on new data, but this requires some care to do well."
      ]
     },
     "metadata": {},
     "output_type": "display_data"
    }
   ],
   "source": [
    "# YOUR_CODE_HERE\n",
    "pretrained_base.trainable = False\n",
    "\n",
    "# Check your answer\n",
    "q_1.check()"
   ]
  },
  {
   "cell_type": "code",
   "execution_count": 4,
   "id": "4a6f450a",
   "metadata": {
    "execution": {
     "iopub.execute_input": "2023-11-24T18:25:33.276903Z",
     "iopub.status.busy": "2023-11-24T18:25:33.276625Z",
     "iopub.status.idle": "2023-11-24T18:25:33.280200Z",
     "shell.execute_reply": "2023-11-24T18:25:33.279370Z"
    },
    "papermill": {
     "duration": 0.012484,
     "end_time": "2023-11-24T18:25:33.282139",
     "exception": false,
     "start_time": "2023-11-24T18:25:33.269655",
     "status": "completed"
    },
    "tags": []
   },
   "outputs": [],
   "source": [
    "# Lines below will give you a hint or solution code\n",
    "#q_1.hint()\n",
    "#q_1.solution()"
   ]
  },
  {
   "cell_type": "markdown",
   "id": "42fc6292",
   "metadata": {
    "papermill": {
     "duration": 0.005995,
     "end_time": "2023-11-24T18:25:33.294359",
     "exception": false,
     "start_time": "2023-11-24T18:25:33.288364",
     "status": "completed"
    },
    "tags": []
   },
   "source": [
    "# 2) Attach Head #\n",
    "\n",
    "Now that the base is defined to do the feature extraction, create a head of `Dense` layers to perform the classification, following this diagram:\n",
    "\n",
    "<figure>\n",
    "<img src=\"https://storage.googleapis.com/kaggle-media/learn/images/i5VU7Ry.png\" alt=\"Diagram of the dense head.\">\n",
    "</figure>\n"
   ]
  },
  {
   "cell_type": "code",
   "execution_count": 5,
   "id": "7ca57cc9",
   "metadata": {
    "execution": {
     "iopub.execute_input": "2023-11-24T18:25:33.307783Z",
     "iopub.status.busy": "2023-11-24T18:25:33.307518Z",
     "iopub.status.idle": "2023-11-24T18:25:33.325824Z",
     "shell.execute_reply": "2023-11-24T18:25:33.324966Z"
    },
    "lines_to_next_cell": 0,
    "papermill": {
     "duration": 0.027215,
     "end_time": "2023-11-24T18:25:33.327709",
     "exception": false,
     "start_time": "2023-11-24T18:25:33.300494",
     "status": "completed"
    },
    "tags": []
   },
   "outputs": [
    {
     "data": {
      "application/javascript": [
       "parent.postMessage({\"jupyterEvent\": \"custom.exercise_interaction\", \"data\": {\"outcomeType\": 1, \"valueTowardsCompletion\": 0.25, \"interactionType\": 1, \"questionType\": 2, \"questionId\": \"2_Q2\", \"learnToolsVersion\": \"0.3.4\", \"failureMessage\": \"\", \"exceptionClass\": \"\", \"trace\": \"\"}}, \"*\")"
      ],
      "text/plain": [
       "<IPython.core.display.Javascript object>"
      ]
     },
     "metadata": {},
     "output_type": "display_data"
    },
    {
     "data": {
      "text/markdown": [
       "<span style=\"color:#33cc33\">Correct</span>"
      ],
      "text/plain": [
       "Correct"
      ]
     },
     "metadata": {},
     "output_type": "display_data"
    }
   ],
   "source": [
    "from tensorflow import keras\n",
    "from tensorflow.keras import layers\n",
    "\n",
    "model = keras.Sequential([\n",
    "    pretrained_base,\n",
    "    layers.Flatten(),\n",
    "    # YOUR CODE HERE. Attach a head of dense layers.\n",
    "    layers.Dense(6, 'relu'),\n",
    "    layers.Dense(1, 'sigmoid')\n",
    "])\n",
    "\n",
    "# Check your answer\n",
    "q_2.check()"
   ]
  },
  {
   "cell_type": "code",
   "execution_count": 6,
   "id": "9dc800b6",
   "metadata": {
    "execution": {
     "iopub.execute_input": "2023-11-24T18:25:33.341882Z",
     "iopub.status.busy": "2023-11-24T18:25:33.341616Z",
     "iopub.status.idle": "2023-11-24T18:25:33.345261Z",
     "shell.execute_reply": "2023-11-24T18:25:33.344413Z"
    },
    "papermill": {
     "duration": 0.012735,
     "end_time": "2023-11-24T18:25:33.347027",
     "exception": false,
     "start_time": "2023-11-24T18:25:33.334292",
     "status": "completed"
    },
    "tags": []
   },
   "outputs": [],
   "source": [
    "# Lines below will give you a hint or solution code\n",
    "#q_2.hint()\n",
    "#q_2.solution()"
   ]
  },
  {
   "cell_type": "markdown",
   "id": "07c52615",
   "metadata": {
    "papermill": {
     "duration": 0.006386,
     "end_time": "2023-11-24T18:25:33.360010",
     "exception": false,
     "start_time": "2023-11-24T18:25:33.353624",
     "status": "completed"
    },
    "tags": []
   },
   "source": [
    "# 3) Train #\n",
    "\n",
    "Before training a model in Keras, you need to specify an *optimizer* to perform the gradient descent, a *loss function* to be minimized, and (optionally) any *performance metrics*. The optimization algorithm we'll use for this course is called [\"Adam\"](https://keras.io/api/optimizers/adam/), which generally performs well regardless of what kind of problem you're trying to solve.\n",
    "\n",
    "The loss and the metrics, however, need to match the kind of problem you're trying to solve. Our problem is a **binary classification** problem: `Car` coded as 0, and `Truck` coded as 1. Choose an appropriate loss and an appropriate accuracy metric for binary classification."
   ]
  },
  {
   "cell_type": "code",
   "execution_count": 7,
   "id": "4adf3505",
   "metadata": {
    "execution": {
     "iopub.execute_input": "2023-11-24T18:25:33.374482Z",
     "iopub.status.busy": "2023-11-24T18:25:33.373932Z",
     "iopub.status.idle": "2023-11-24T18:25:33.396336Z",
     "shell.execute_reply": "2023-11-24T18:25:33.395490Z"
    },
    "lines_to_next_cell": 0,
    "papermill": {
     "duration": 0.031577,
     "end_time": "2023-11-24T18:25:33.398235",
     "exception": false,
     "start_time": "2023-11-24T18:25:33.366658",
     "status": "completed"
    },
    "tags": []
   },
   "outputs": [
    {
     "data": {
      "application/javascript": [
       "parent.postMessage({\"jupyterEvent\": \"custom.exercise_interaction\", \"data\": {\"outcomeType\": 1, \"valueTowardsCompletion\": 0.25, \"interactionType\": 1, \"questionType\": 2, \"questionId\": \"3_Q3\", \"learnToolsVersion\": \"0.3.4\", \"failureMessage\": \"\", \"exceptionClass\": \"\", \"trace\": \"\"}}, \"*\")"
      ],
      "text/plain": [
       "<IPython.core.display.Javascript object>"
      ]
     },
     "metadata": {},
     "output_type": "display_data"
    },
    {
     "data": {
      "text/markdown": [
       "<span style=\"color:#33cc33\">Correct</span>"
      ],
      "text/plain": [
       "Correct"
      ]
     },
     "metadata": {},
     "output_type": "display_data"
    }
   ],
   "source": [
    "# YOUR CODE HERE: what loss function should you use for a binary\n",
    "# classification problem? (Your answer for each should be a string.)\n",
    "optimizer = tf.keras.optimizers.Adam(epsilon=0.01)\n",
    "model.compile(\n",
    "    optimizer=optimizer,\n",
    "    loss = 'binary_crossentropy',\n",
    "    metrics=['binary_accuracy'],\n",
    ")\n",
    "\n",
    "# Check your answer\n",
    "q_3.check()"
   ]
  },
  {
   "cell_type": "code",
   "execution_count": 8,
   "id": "37be1442",
   "metadata": {
    "execution": {
     "iopub.execute_input": "2023-11-24T18:25:33.412975Z",
     "iopub.status.busy": "2023-11-24T18:25:33.412702Z",
     "iopub.status.idle": "2023-11-24T18:25:33.416208Z",
     "shell.execute_reply": "2023-11-24T18:25:33.415392Z"
    },
    "lines_to_next_cell": 0,
    "papermill": {
     "duration": 0.013004,
     "end_time": "2023-11-24T18:25:33.418022",
     "exception": false,
     "start_time": "2023-11-24T18:25:33.405018",
     "status": "completed"
    },
    "tags": []
   },
   "outputs": [],
   "source": [
    "# Lines below will give you a hint or solution code\n",
    "#q_3.hint()\n",
    "#q_3.solution()"
   ]
  },
  {
   "cell_type": "code",
   "execution_count": 9,
   "id": "fe647707",
   "metadata": {
    "execution": {
     "iopub.execute_input": "2023-11-24T18:25:33.432980Z",
     "iopub.status.busy": "2023-11-24T18:25:33.432718Z",
     "iopub.status.idle": "2023-11-24T18:27:33.137466Z",
     "shell.execute_reply": "2023-11-24T18:27:33.136449Z"
    },
    "papermill": {
     "duration": 119.714422,
     "end_time": "2023-11-24T18:27:33.139450",
     "exception": false,
     "start_time": "2023-11-24T18:25:33.425028",
     "status": "completed"
    },
    "tags": []
   },
   "outputs": [
    {
     "name": "stdout",
     "output_type": "stream",
     "text": [
      "Epoch 1/30\n",
      "80/80 [==============================] - 25s 168ms/step - loss: 0.5782 - binary_accuracy: 0.7026 - val_loss: 0.4456 - val_binary_accuracy: 0.7921\n",
      "Epoch 2/30\n",
      "80/80 [==============================] - 3s 41ms/step - loss: 0.4246 - binary_accuracy: 0.8083 - val_loss: 0.4037 - val_binary_accuracy: 0.8194\n",
      "Epoch 3/30\n",
      "80/80 [==============================] - 3s 41ms/step - loss: 0.3907 - binary_accuracy: 0.8280 - val_loss: 0.3895 - val_binary_accuracy: 0.8252\n",
      "Epoch 4/30\n",
      "80/80 [==============================] - 3s 41ms/step - loss: 0.3708 - binary_accuracy: 0.8390 - val_loss: 0.3782 - val_binary_accuracy: 0.8327\n",
      "Epoch 5/30\n",
      "80/80 [==============================] - 3s 41ms/step - loss: 0.3552 - binary_accuracy: 0.8478 - val_loss: 0.3690 - val_binary_accuracy: 0.8394\n",
      "Epoch 6/30\n",
      "80/80 [==============================] - 3s 41ms/step - loss: 0.3429 - binary_accuracy: 0.8540 - val_loss: 0.3600 - val_binary_accuracy: 0.8442\n",
      "Epoch 7/30\n",
      "80/80 [==============================] - 3s 41ms/step - loss: 0.3324 - binary_accuracy: 0.8609 - val_loss: 0.3501 - val_binary_accuracy: 0.8515\n",
      "Epoch 8/30\n",
      "80/80 [==============================] - 3s 41ms/step - loss: 0.3232 - binary_accuracy: 0.8659 - val_loss: 0.3456 - val_binary_accuracy: 0.8515\n",
      "Epoch 9/30\n",
      "80/80 [==============================] - 3s 41ms/step - loss: 0.3149 - binary_accuracy: 0.8702 - val_loss: 0.3422 - val_binary_accuracy: 0.8541\n",
      "Epoch 10/30\n",
      "80/80 [==============================] - 3s 41ms/step - loss: 0.3075 - binary_accuracy: 0.8736 - val_loss: 0.3396 - val_binary_accuracy: 0.8545\n",
      "Epoch 11/30\n",
      "80/80 [==============================] - 3s 40ms/step - loss: 0.3010 - binary_accuracy: 0.8771 - val_loss: 0.3388 - val_binary_accuracy: 0.8539\n",
      "Epoch 12/30\n",
      "80/80 [==============================] - 3s 41ms/step - loss: 0.2946 - binary_accuracy: 0.8792 - val_loss: 0.3360 - val_binary_accuracy: 0.8541\n",
      "Epoch 13/30\n",
      "80/80 [==============================] - 3s 41ms/step - loss: 0.2887 - binary_accuracy: 0.8833 - val_loss: 0.3331 - val_binary_accuracy: 0.8569\n",
      "Epoch 14/30\n",
      "80/80 [==============================] - 3s 41ms/step - loss: 0.2832 - binary_accuracy: 0.8847 - val_loss: 0.3318 - val_binary_accuracy: 0.8584\n",
      "Epoch 15/30\n",
      "80/80 [==============================] - 3s 41ms/step - loss: 0.2780 - binary_accuracy: 0.8874 - val_loss: 0.3300 - val_binary_accuracy: 0.8588\n",
      "Epoch 16/30\n",
      "80/80 [==============================] - 3s 41ms/step - loss: 0.2731 - binary_accuracy: 0.8884 - val_loss: 0.3306 - val_binary_accuracy: 0.8602\n",
      "Epoch 17/30\n",
      "80/80 [==============================] - 3s 41ms/step - loss: 0.2689 - binary_accuracy: 0.8919 - val_loss: 0.3292 - val_binary_accuracy: 0.8600\n",
      "Epoch 18/30\n",
      "80/80 [==============================] - 3s 41ms/step - loss: 0.2649 - binary_accuracy: 0.8941 - val_loss: 0.3298 - val_binary_accuracy: 0.8610\n",
      "Epoch 19/30\n",
      "80/80 [==============================] - 3s 41ms/step - loss: 0.2609 - binary_accuracy: 0.8945 - val_loss: 0.3288 - val_binary_accuracy: 0.8618\n",
      "Epoch 20/30\n",
      "80/80 [==============================] - 3s 41ms/step - loss: 0.2575 - binary_accuracy: 0.8972 - val_loss: 0.3286 - val_binary_accuracy: 0.8622\n",
      "Epoch 21/30\n",
      "80/80 [==============================] - 3s 41ms/step - loss: 0.2534 - binary_accuracy: 0.9005 - val_loss: 0.3291 - val_binary_accuracy: 0.8622\n",
      "Epoch 22/30\n",
      "80/80 [==============================] - 3s 41ms/step - loss: 0.2499 - binary_accuracy: 0.9017 - val_loss: 0.3286 - val_binary_accuracy: 0.8636\n",
      "Epoch 23/30\n",
      "80/80 [==============================] - 3s 41ms/step - loss: 0.2468 - binary_accuracy: 0.9035 - val_loss: 0.3297 - val_binary_accuracy: 0.8624\n",
      "Epoch 24/30\n",
      "80/80 [==============================] - 3s 41ms/step - loss: 0.2438 - binary_accuracy: 0.9038 - val_loss: 0.3293 - val_binary_accuracy: 0.8632\n",
      "Epoch 25/30\n",
      "80/80 [==============================] - 3s 41ms/step - loss: 0.2404 - binary_accuracy: 0.9064 - val_loss: 0.3303 - val_binary_accuracy: 0.8624\n",
      "Epoch 26/30\n",
      "80/80 [==============================] - 3s 41ms/step - loss: 0.2382 - binary_accuracy: 0.9064 - val_loss: 0.3298 - val_binary_accuracy: 0.8620\n",
      "Epoch 27/30\n",
      "80/80 [==============================] - 3s 41ms/step - loss: 0.2353 - binary_accuracy: 0.9070 - val_loss: 0.3317 - val_binary_accuracy: 0.8612\n",
      "Epoch 28/30\n",
      "80/80 [==============================] - 3s 41ms/step - loss: 0.2319 - binary_accuracy: 0.9095 - val_loss: 0.3326 - val_binary_accuracy: 0.8638\n",
      "Epoch 29/30\n",
      "80/80 [==============================] - 3s 41ms/step - loss: 0.2304 - binary_accuracy: 0.9101 - val_loss: 0.3307 - val_binary_accuracy: 0.8650\n",
      "Epoch 30/30\n",
      "80/80 [==============================] - 3s 41ms/step - loss: 0.2272 - binary_accuracy: 0.9119 - val_loss: 0.3318 - val_binary_accuracy: 0.8634\n"
     ]
    }
   ],
   "source": [
    "history = model.fit(\n",
    "    ds_train,\n",
    "    validation_data=ds_valid,\n",
    "    epochs=30,\n",
    ")"
   ]
  },
  {
   "cell_type": "markdown",
   "id": "81cf9183",
   "metadata": {
    "papermill": {
     "duration": 0.07664,
     "end_time": "2023-11-24T18:27:33.341514",
     "exception": false,
     "start_time": "2023-11-24T18:27:33.264874",
     "status": "completed"
    },
    "tags": []
   },
   "source": [
    "Run the cell below to plot the loss and metric curves for this training run."
   ]
  },
  {
   "cell_type": "code",
   "execution_count": 10,
   "id": "d1d9b161",
   "metadata": {
    "execution": {
     "iopub.execute_input": "2023-11-24T18:27:33.499316Z",
     "iopub.status.busy": "2023-11-24T18:27:33.498443Z",
     "iopub.status.idle": "2023-11-24T18:27:34.398212Z",
     "shell.execute_reply": "2023-11-24T18:27:34.397316Z"
    },
    "papermill": {
     "duration": 0.980447,
     "end_time": "2023-11-24T18:27:34.400408",
     "exception": false,
     "start_time": "2023-11-24T18:27:33.419961",
     "status": "completed"
    },
    "tags": []
   },
   "outputs": [
    {
     "data": {
      "image/png": "[encoded data removed]",
      "text/plain": [
       "<Figure size 640x480 with 1 Axes>"
      ]
     },
     "metadata": {},
     "output_type": "display_data"
    },
    {
     "data": {
      "image/png": "[encoded data removed]",
      "text/plain": [
       "<Figure size 640x480 with 1 Axes>"
      ]
     },
     "metadata": {},
     "output_type": "display_data"
    }
   ],
   "source": [
    "import pandas as pd\n",
    "history_frame = pd.DataFrame(history.history)\n",
    "history_frame.loc[:, ['loss', 'val_loss']].plot()\n",
    "history_frame.loc[:, ['binary_accuracy', 'val_binary_accuracy']].plot();"
   ]
  },
  {
   "cell_type": "markdown",
   "id": "f3e4a9f5",
   "metadata": {
    "papermill": {
     "duration": 0.078657,
     "end_time": "2023-11-24T18:27:34.558197",
     "exception": false,
     "start_time": "2023-11-24T18:27:34.479540",
     "status": "completed"
    },
    "tags": []
   },
   "source": [
    "# 4) Examine Loss and Accuracy #\n",
    "\n",
    "Do you notice a difference between these learning curves and the curves for VGG16 from the tutorial? What does this difference tell you about what this model (InceptionV2) learned compared to VGG16? Are there ways in which one is better than the other? Worse?\n",
    "\n",
    "After you've thought about it, run the cell below to see the answer."
   ]
  },
  {
   "cell_type": "code",
   "execution_count": 11,
   "id": "51f02a41",
   "metadata": {
    "execution": {
     "iopub.execute_input": "2023-11-24T18:27:34.720023Z",
     "iopub.status.busy": "2023-11-24T18:27:34.719312Z",
     "iopub.status.idle": "2023-11-24T18:27:34.726839Z",
     "shell.execute_reply": "2023-11-24T18:27:34.725938Z"
    },
    "papermill": {
     "duration": 0.090988,
     "end_time": "2023-11-24T18:27:34.728640",
     "exception": false,
     "start_time": "2023-11-24T18:27:34.637652",
     "status": "completed"
    },
    "tags": []
   },
   "outputs": [
    {
     "data": {
      "application/javascript": [
       "parent.postMessage({\"jupyterEvent\": \"custom.exercise_interaction\", \"data\": {\"outcomeType\": 1, \"valueTowardsCompletion\": 0.25, \"interactionType\": 1, \"questionType\": 4, \"questionId\": \"4_Q4\", \"learnToolsVersion\": \"0.3.4\", \"failureMessage\": \"\", \"exceptionClass\": \"\", \"trace\": \"\"}}, \"*\")"
      ],
      "text/plain": [
       "<IPython.core.display.Javascript object>"
      ]
     },
     "metadata": {},
     "output_type": "display_data"
    },
    {
     "data": {
      "text/markdown": [
       "<span style=\"color:#33cc33\">Correct:</span> \n",
       "\n",
       "That the training loss and validation loss stay fairly close is evidence that the model isn't just memorizing the training data, but rather learning general properties of the two classes. But, because this model converges at a loss greater than the VGG16 model, it's likely that it is underfitting some, and could benefit from some extra capacity.\n"
      ],
      "text/plain": [
       "Correct: \n",
       "\n",
       "That the training loss and validation loss stay fairly close is evidence that the model isn't just memorizing the training data, but rather learning general properties of the two classes. But, because this model converges at a loss greater than the VGG16 model, it's likely that it is underfitting some, and could benefit from some extra capacity."
      ]
     },
     "metadata": {},
     "output_type": "display_data"
    }
   ],
   "source": [
    "# View the solution (Run this code cell to receive credit!)\n",
    "q_4.check()"
   ]
  },
  {
   "cell_type": "markdown",
   "id": "bc0f5334",
   "metadata": {
    "papermill": {
     "duration": 0.078741,
     "end_time": "2023-11-24T18:27:34.886411",
     "exception": false,
     "start_time": "2023-11-24T18:27:34.807670",
     "status": "completed"
    },
    "tags": []
   },
   "source": [
    "# Conclusion #\n",
    "\n",
    "In this first lesson, you learned the basics of **convolutional image classifiers**, that they consist of a **base** for extracting features from images, and a **head** which uses the features to decide the image's class. You also saw how to build a classifier with **transfer learning** on pretrained base. "
   ]
  },
  {
   "cell_type": "markdown",
   "id": "522b85d1",
   "metadata": {
    "papermill": {
     "duration": 0.079239,
     "end_time": "2023-11-24T18:27:35.044119",
     "exception": false,
     "start_time": "2023-11-24T18:27:34.964880",
     "status": "completed"
    },
    "tags": []
   },
   "source": [
    "# Keep Going #\n",
    "\n",
    "Move on to [**Lesson 2**](https://www.kaggle.com/ryanholbrook/convolution-and-relu) for a detailed look at how the base does this feature extraction. (It's really cool!)"
   ]
  },
  {
   "cell_type": "markdown",
   "id": "f4bbd61d",
   "metadata": {
    "papermill": {
     "duration": 0.077611,
     "end_time": "2023-11-24T18:27:35.200876",
     "exception": false,
     "start_time": "2023-11-24T18:27:35.123265",
     "status": "completed"
    },
    "tags": []
   },
   "source": [
    "---\n",
    "\n",
    "\n",
    "\n",
    "\n",
    "*Have questions or comments? Visit the [course discussion forum](https://www.kaggle.com/learn/computer-vision/discussion) to chat with other learners.*"
   ]
  },
  {
   "cell_type": "code",
   "execution_count": null,
   "id": "0f6b3497",
   "metadata": {
    "papermill": {
     "duration": 0.078324,
     "end_time": "2023-11-24T18:27:35.357910",
     "exception": false,
     "start_time": "2023-11-24T18:27:35.279586",
     "status": "completed"
    },
    "tags": []
   },
   "outputs": [],
   "source": []
  }
 ],
 "metadata": {
  "jupytext": {
   "formats": "ipynb,md",
   "split_at_heading": true
  },
  "kaggle": {
   "accelerator": "gpu",
   "dataSources": [
    {
     "datasetId": 708136,
     "sourceId": 1338830,
     "sourceType": "datasetVersion"
    },
    {
     "datasetId": 701538,
     "sourceId": 1363948,
     "sourceType": "datasetVersion"
    },
    {
     "datasetId": 878523,
     "sourceId": 1495782,
     "sourceType": "datasetVersion"
    }
   ],
   "isGpuEnabled": true,
   "isInternetEnabled": false,
   "language": "python",
   "sourceType": "notebook"
  },
  "kernelspec": {
   "display_name": "Python 3",
   "language": "python",
   "name": "python3"
  },
  "language_info": {
   "codemirror_mode": {
    "name": "ipython",
    "version": 3
   },
   "file_extension": ".py",
   "mimetype": "text/x-python",
   "name": "python",
   "nbconvert_exporter": "python",
   "pygments_lexer": "ipython3",
   "version": "3.10.12"
  },
  "papermill": {
   "default_parameters": {},
   "duration": 152.550551,
   "end_time": "2023-11-24T18:27:39.202451",
   "environment_variables": {},
   "exception": null,
   "input_path": "__notebook__.ipynb",
   "output_path": "__notebook__.ipynb",
   "parameters": {},
   "start_time": "2023-11-24T18:25:06.651900",
   "version": "2.4.0"
  }
 },
 "nbformat": 4,
 "nbformat_minor": 5
}
