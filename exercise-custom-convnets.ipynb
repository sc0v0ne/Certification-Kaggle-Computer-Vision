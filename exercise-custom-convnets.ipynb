{
 "cells": [
  {
   "cell_type": "markdown",
   "id": "46148177",
   "metadata": {
    "papermill": {
     "duration": 0.007548,
     "end_time": "2023-11-24T23:26:56.710402",
     "exception": false,
     "start_time": "2023-11-24T23:26:56.702854",
     "status": "completed"
    },
    "tags": []
   },
   "source": [
    "**This notebook is an exercise in the [Computer Vision](https://www.kaggle.com/learn/computer-vision) course.  You can reference the tutorial at [this link](https://www.kaggle.com/ryanholbrook/custom-convnets).**\n",
    "\n",
    "---\n"
   ]
  },
  {
   "cell_type": "markdown",
   "id": "cdaaf5bb",
   "metadata": {
    "papermill": {
     "duration": 0.006856,
     "end_time": "2023-11-24T23:26:56.724399",
     "exception": false,
     "start_time": "2023-11-24T23:26:56.717543",
     "status": "completed"
    },
    "tags": []
   },
   "source": [
    "# Introduction #\n",
    "\n",
    "In these exercises, you'll build a custom convnet with performance competitive to the VGG16 model from Lesson 1.\n",
    "\n",
    "Get started by running the code cell below."
   ]
  },
  {
   "cell_type": "code",
   "execution_count": 1,
   "id": "6975864a",
   "metadata": {
    "execution": {
     "iopub.execute_input": "2023-11-24T23:26:56.740840Z",
     "iopub.status.busy": "2023-11-24T23:26:56.739889Z",
     "iopub.status.idle": "2023-11-24T23:27:15.721034Z",
     "shell.execute_reply": "2023-11-24T23:27:15.720265Z"
    },
    "papermill": {
     "duration": 18.992067,
     "end_time": "2023-11-24T23:27:15.723529",
     "exception": false,
     "start_time": "2023-11-24T23:26:56.731462",
     "status": "completed"
    },
    "tags": []
   },
   "outputs": [
    {
     "name": "stderr",
     "output_type": "stream",
     "text": [
      "/opt/conda/lib/python3.10/site-packages/scipy/__init__.py:146: UserWarning: A NumPy version >=1.16.5 and <1.23.0 is required for this version of SciPy (detected version 1.24.3\n",
      "  warnings.warn(f\"A NumPy version >={np_minversion} and <{np_maxversion}\"\n"
     ]
    },
    {
     "name": "stdout",
     "output_type": "stream",
     "text": [
      "Found 5117 files belonging to 2 classes.\n",
      "Found 5051 files belonging to 2 classes.\n"
     ]
    }
   ],
   "source": [
    "# Setup feedback system\n",
    "from learntools.core import binder\n",
    "binder.bind(globals())\n",
    "from learntools.computer_vision.ex5 import *\n",
    "\n",
    "# Imports\n",
    "import os, warnings\n",
    "import matplotlib.pyplot as plt\n",
    "from matplotlib import gridspec\n",
    "\n",
    "import numpy as np\n",
    "import tensorflow as tf\n",
    "from tensorflow.keras.preprocessing import image_dataset_from_directory\n",
    "\n",
    "# Reproducability\n",
    "def set_seed(seed=31415):\n",
    "    np.random.seed(seed)\n",
    "    tf.random.set_seed(seed)\n",
    "    os.environ['PYTHONHASHSEED'] = str(seed)\n",
    "    os.environ['TF_DETERMINISTIC_OPS'] = '1'\n",
    "set_seed()\n",
    "\n",
    "# Set Matplotlib defaults\n",
    "plt.rc('figure', autolayout=True)\n",
    "plt.rc('axes', labelweight='bold', labelsize='large',\n",
    "       titleweight='bold', titlesize=18, titlepad=10)\n",
    "plt.rc('image', cmap='magma')\n",
    "warnings.filterwarnings(\"ignore\") # to clean up output cells\n",
    "\n",
    "\n",
    "# Load training and validation sets\n",
    "ds_train_ = image_dataset_from_directory(\n",
    "    '../input/car-or-truck/train',\n",
    "    labels='inferred',\n",
    "    label_mode='binary',\n",
    "    image_size=[128, 128],\n",
    "    interpolation='nearest',\n",
    "    batch_size=64,\n",
    "    shuffle=True,\n",
    ")\n",
    "ds_valid_ = image_dataset_from_directory(\n",
    "    '../input/car-or-truck/valid',\n",
    "    labels='inferred',\n",
    "    label_mode='binary',\n",
    "    image_size=[128, 128],\n",
    "    interpolation='nearest',\n",
    "    batch_size=64,\n",
    "    shuffle=False,\n",
    ")\n",
    "\n",
    "# Data Pipeline\n",
    "def convert_to_float(image, label):\n",
    "    image = tf.image.convert_image_dtype(image, dtype=tf.float32)\n",
    "    return image, label\n",
    "\n",
    "AUTOTUNE = tf.data.experimental.AUTOTUNE\n",
    "ds_train = (\n",
    "    ds_train_\n",
    "    .map(convert_to_float)\n",
    "    .cache()\n",
    "    .prefetch(buffer_size=AUTOTUNE)\n",
    ")\n",
    "ds_valid = (\n",
    "    ds_valid_\n",
    "    .map(convert_to_float)\n",
    "    .cache()\n",
    "    .prefetch(buffer_size=AUTOTUNE)\n",
    ")\n"
   ]
  },
  {
   "cell_type": "markdown",
   "id": "82ab80c1",
   "metadata": {
    "papermill": {
     "duration": 0.006457,
     "end_time": "2023-11-24T23:27:15.736970",
     "exception": false,
     "start_time": "2023-11-24T23:27:15.730513",
     "status": "completed"
    },
    "tags": []
   },
   "source": [
    "# Design a Convnet #\n",
    "\n",
    "Let's design a convolutional network with a block architecture like we saw in the tutorial. The model from the example had three blocks, each with a single convolutional layer. Its performance on the \"Car or Truck\" problem was okay, but far from what the pretrained VGG16 could achieve. It might be that our simple network lacks the ability to extract sufficiently complex features. We could try improving the model either by adding more blocks or by adding convolutions to the blocks we have.\n",
    "\n",
    "Let's go with the second approach. We'll keep the three block structure, but increase the number of `Conv2D` layer in the second block to two, and in the third block to three.\n",
    "\n",
    "<figure>\n",
    "<!-- <img src=\"./images/2-convmodel-2.png\" width=\"250\" alt=\"Diagram of a convolutional model.\"> -->\n",
    "<img src=\"https://storage.googleapis.com/kaggle-media/learn/images/Vko6nCK.png\" width=\"250\" alt=\"Diagram of a convolutional model.\">\n",
    "</figure>\n",
    "\n",
    "# 1) Define Model #\n",
    "\n",
    "Given the diagram above, complete the model by defining the layers of the third block."
   ]
  },
  {
   "cell_type": "code",
   "execution_count": 2,
   "id": "812a44e1",
   "metadata": {
    "execution": {
     "iopub.execute_input": "2023-11-24T23:27:15.752112Z",
     "iopub.status.busy": "2023-11-24T23:27:15.751476Z",
     "iopub.status.idle": "2023-11-24T23:27:15.921764Z",
     "shell.execute_reply": "2023-11-24T23:27:15.920790Z"
    },
    "lines_to_next_cell": 0,
    "papermill": {
     "duration": 0.180482,
     "end_time": "2023-11-24T23:27:15.924015",
     "exception": false,
     "start_time": "2023-11-24T23:27:15.743533",
     "status": "completed"
    },
    "tags": []
   },
   "outputs": [
    {
     "data": {
      "application/javascript": [
       "parent.postMessage({\"jupyterEvent\": \"custom.exercise_interaction\", \"data\": {\"outcomeType\": 1, \"valueTowardsCompletion\": 0.3333333333333333, \"interactionType\": 1, \"questionType\": 2, \"questionId\": \"1_Q1\", \"learnToolsVersion\": \"0.3.4\", \"failureMessage\": \"\", \"exceptionClass\": \"\", \"trace\": \"\"}}, \"*\")"
      ],
      "text/plain": [
       "<IPython.core.display.Javascript object>"
      ]
     },
     "metadata": {},
     "output_type": "display_data"
    },
    {
     "data": {
      "text/markdown": [
       "<span style=\"color:#33cc33\">Correct</span>"
      ],
      "text/plain": [
       "Correct"
      ]
     },
     "metadata": {},
     "output_type": "display_data"
    }
   ],
   "source": [
    "from tensorflow import keras\n",
    "from tensorflow.keras import layers\n",
    "\n",
    "model = keras.Sequential([\n",
    "    # Block One\n",
    "    layers.Conv2D(filters=32, kernel_size=3, activation='relu', padding='same',\n",
    "                  input_shape=[128, 128, 3]),\n",
    "    layers.MaxPool2D(),\n",
    "\n",
    "    # Block Two\n",
    "    layers.Conv2D(filters=64, kernel_size=3, activation='relu', padding='same'),\n",
    "    layers.MaxPool2D(),\n",
    "\n",
    "    # Block Three\n",
    "    layers.Conv2D(filters=128, kernel_size=3, activation='relu', padding='same'),\n",
    "    layers.Conv2D(filters=128, kernel_size=3, activation='relu', padding='same'),\n",
    "    layers.MaxPool2D(),\n",
    "\n",
    "    # Head\n",
    "    layers.Flatten(),\n",
    "    layers.Dense(6, activation='relu'),\n",
    "    layers.Dropout(0.2),\n",
    "    layers.Dense(1, activation='sigmoid'),\n",
    "])\n",
    "\n",
    "# Check your answer\n",
    "q_1.check()"
   ]
  },
  {
   "cell_type": "code",
   "execution_count": 3,
   "id": "15629491",
   "metadata": {
    "execution": {
     "iopub.execute_input": "2023-11-24T23:27:15.940806Z",
     "iopub.status.busy": "2023-11-24T23:27:15.940447Z",
     "iopub.status.idle": "2023-11-24T23:27:15.976701Z",
     "shell.execute_reply": "2023-11-24T23:27:15.975727Z"
    },
    "papermill": {
     "duration": 0.05594,
     "end_time": "2023-11-24T23:27:15.987895",
     "exception": false,
     "start_time": "2023-11-24T23:27:15.931955",
     "status": "completed"
    },
    "tags": []
   },
   "outputs": [
    {
     "name": "stdout",
     "output_type": "stream",
     "text": [
      "Model: \"sequential\"\n",
      "_________________________________________________________________\n",
      " Layer (type)                Output Shape              Param #   \n",
      "=================================================================\n",
      " conv2d (Conv2D)             (None, 128, 128, 32)      896       \n",
      "                                                                 \n",
      " max_pooling2d (MaxPooling2  (None, 64, 64, 32)        0         \n",
      " D)                                                              \n",
      "                                                                 \n",
      " conv2d_1 (Conv2D)           (None, 64, 64, 64)        18496     \n",
      "                                                                 \n",
      " max_pooling2d_1 (MaxPoolin  (None, 32, 32, 64)        0         \n",
      " g2D)                                                            \n",
      "                                                                 \n",
      " conv2d_2 (Conv2D)           (None, 32, 32, 128)       73856     \n",
      "                                                                 \n",
      " conv2d_3 (Conv2D)           (None, 32, 32, 128)       147584    \n",
      "                                                                 \n",
      " max_pooling2d_2 (MaxPoolin  (None, 16, 16, 128)       0         \n",
      " g2D)                                                            \n",
      "                                                                 \n",
      " flatten (Flatten)           (None, 32768)             0         \n",
      "                                                                 \n",
      " dense (Dense)               (None, 6)                 196614    \n",
      "                                                                 \n",
      " dropout (Dropout)           (None, 6)                 0         \n",
      "                                                                 \n",
      " dense_1 (Dense)             (None, 1)                 7         \n",
      "                                                                 \n",
      "=================================================================\n",
      "Total params: 437453 (1.67 MB)\n",
      "Trainable params: 437453 (1.67 MB)\n",
      "Non-trainable params: 0 (0.00 Byte)\n",
      "_________________________________________________________________\n"
     ]
    }
   ],
   "source": [
    "model.summary()"
   ]
  },
  {
   "cell_type": "code",
   "execution_count": 4,
   "id": "ff383f38",
   "metadata": {
    "execution": {
     "iopub.execute_input": "2023-11-24T23:27:16.010381Z",
     "iopub.status.busy": "2023-11-24T23:27:16.009717Z",
     "iopub.status.idle": "2023-11-24T23:27:16.014460Z",
     "shell.execute_reply": "2023-11-24T23:27:16.013496Z"
    },
    "papermill": {
     "duration": 0.018355,
     "end_time": "2023-11-24T23:27:16.016415",
     "exception": false,
     "start_time": "2023-11-24T23:27:15.998060",
     "status": "completed"
    },
    "tags": []
   },
   "outputs": [],
   "source": [
    "from tensorflow import keras\n",
    "from tensorflow.keras import layers"
   ]
  },
  {
   "cell_type": "code",
   "execution_count": 5,
   "id": "18885561",
   "metadata": {
    "execution": {
     "iopub.execute_input": "2023-11-24T23:27:16.038091Z",
     "iopub.status.busy": "2023-11-24T23:27:16.037698Z",
     "iopub.status.idle": "2023-11-24T23:27:16.043039Z",
     "shell.execute_reply": "2023-11-24T23:27:16.042161Z"
    },
    "papermill": {
     "duration": 0.018393,
     "end_time": "2023-11-24T23:27:16.045128",
     "exception": false,
     "start_time": "2023-11-24T23:27:16.026735",
     "status": "completed"
    },
    "tags": []
   },
   "outputs": [],
   "source": [
    "def block_conv(\n",
    "            x: tf.keras.layers,\n",
    "            filters: int,\n",
    "            ) -> tf.keras.layers:\n",
    "    x = layers.Conv2D(filters, kernel_size=3, activation='relu', padding='same')(x)\n",
    "    x = layers.MaxPool2D()(x)\n",
    "    \n",
    "    return x"
   ]
  },
  {
   "cell_type": "code",
   "execution_count": 6,
   "id": "afea151f",
   "metadata": {
    "execution": {
     "iopub.execute_input": "2023-11-24T23:27:16.067175Z",
     "iopub.status.busy": "2023-11-24T23:27:16.066392Z",
     "iopub.status.idle": "2023-11-24T23:27:16.072446Z",
     "shell.execute_reply": "2023-11-24T23:27:16.071513Z"
    },
    "papermill": {
     "duration": 0.019182,
     "end_time": "2023-11-24T23:27:16.074357",
     "exception": false,
     "start_time": "2023-11-24T23:27:16.055175",
     "status": "completed"
    },
    "tags": []
   },
   "outputs": [],
   "source": [
    "def block_double_conv(\n",
    "            x: tf.keras.layers,\n",
    "            filters: int,\n",
    "            ) -> tf.keras.layers:\n",
    "    x = layers.Conv2D(filters, kernel_size=3, activation='relu', padding='same')(x)\n",
    "    x = layers.Conv2D(filters, kernel_size=3, activation='relu', padding='same')(x)\n",
    "    x = layers.MaxPool2D()(x)\n",
    "\n",
    "    return x"
   ]
  },
  {
   "cell_type": "code",
   "execution_count": 7,
   "id": "fa5e2a80",
   "metadata": {
    "execution": {
     "iopub.execute_input": "2023-11-24T23:27:16.095806Z",
     "iopub.status.busy": "2023-11-24T23:27:16.095433Z",
     "iopub.status.idle": "2023-11-24T23:27:16.102879Z",
     "shell.execute_reply": "2023-11-24T23:27:16.101930Z"
    },
    "papermill": {
     "duration": 0.020651,
     "end_time": "2023-11-24T23:27:16.104918",
     "exception": false,
     "start_time": "2023-11-24T23:27:16.084267",
     "status": "completed"
    },
    "tags": []
   },
   "outputs": [],
   "source": [
    "def make_model(img_size, filters):\n",
    "    channels = (3, )\n",
    "    new_size = img_size + channels\n",
    "    inputs = keras.Input(shape=new_size)\n",
    "    x = block_conv(x=inputs, filters=filters)\n",
    "    filters = filters * 2\n",
    "    x = block_conv(x=x, filters=filters)\n",
    "    filters = filters * 2\n",
    "    x = block_double_conv(x=x, filters=filters)\n",
    "    x = layers.Flatten()(x)\n",
    "    x = layers.Dense(6, activation='relu')(x)\n",
    "    x = layers.Dropout(0.2)(x)\n",
    "    outputs = layers.Dense(1, activation='sigmoid')(x)\n",
    "    model = keras.Model(inputs=inputs, outputs=outputs, name=\"exercise_model\")\n",
    "    \n",
    "    return model"
   ]
  },
  {
   "cell_type": "code",
   "execution_count": 8,
   "id": "1bcc0e05",
   "metadata": {
    "execution": {
     "iopub.execute_input": "2023-11-24T23:27:16.126428Z",
     "iopub.status.busy": "2023-11-24T23:27:16.126031Z",
     "iopub.status.idle": "2023-11-24T23:27:16.215496Z",
     "shell.execute_reply": "2023-11-24T23:27:16.214687Z"
    },
    "papermill": {
     "duration": 0.103118,
     "end_time": "2023-11-24T23:27:16.217919",
     "exception": false,
     "start_time": "2023-11-24T23:27:16.114801",
     "status": "completed"
    },
    "tags": []
   },
   "outputs": [],
   "source": [
    "FILTER = 32\n",
    "IMG_SIZE = (128, 128)\n",
    "\n",
    "model = make_model(img_size=IMG_SIZE, filters=FILTER)"
   ]
  },
  {
   "cell_type": "code",
   "execution_count": 9,
   "id": "347a2d4f",
   "metadata": {
    "execution": {
     "iopub.execute_input": "2023-11-24T23:27:16.240509Z",
     "iopub.status.busy": "2023-11-24T23:27:16.240139Z",
     "iopub.status.idle": "2023-11-24T23:27:16.277173Z",
     "shell.execute_reply": "2023-11-24T23:27:16.276091Z"
    },
    "papermill": {
     "duration": 0.061984,
     "end_time": "2023-11-24T23:27:16.290659",
     "exception": false,
     "start_time": "2023-11-24T23:27:16.228675",
     "status": "completed"
    },
    "tags": []
   },
   "outputs": [
    {
     "name": "stdout",
     "output_type": "stream",
     "text": [
      "Model: \"exercise_model\"\n",
      "_________________________________________________________________\n",
      " Layer (type)                Output Shape              Param #   \n",
      "=================================================================\n",
      " input_1 (InputLayer)        [(None, 128, 128, 3)]     0         \n",
      "                                                                 \n",
      " conv2d_4 (Conv2D)           (None, 128, 128, 32)      896       \n",
      "                                                                 \n",
      " max_pooling2d_3 (MaxPoolin  (None, 64, 64, 32)        0         \n",
      " g2D)                                                            \n",
      "                                                                 \n",
      " conv2d_5 (Conv2D)           (None, 64, 64, 64)        18496     \n",
      "                                                                 \n",
      " max_pooling2d_4 (MaxPoolin  (None, 32, 32, 64)        0         \n",
      " g2D)                                                            \n",
      "                                                                 \n",
      " conv2d_6 (Conv2D)           (None, 32, 32, 128)       73856     \n",
      "                                                                 \n",
      " conv2d_7 (Conv2D)           (None, 32, 32, 128)       147584    \n",
      "                                                                 \n",
      " max_pooling2d_5 (MaxPoolin  (None, 16, 16, 128)       0         \n",
      " g2D)                                                            \n",
      "                                                                 \n",
      " flatten_1 (Flatten)         (None, 32768)             0         \n",
      "                                                                 \n",
      " dense_2 (Dense)             (None, 6)                 196614    \n",
      "                                                                 \n",
      " dropout_1 (Dropout)         (None, 6)                 0         \n",
      "                                                                 \n",
      " dense_3 (Dense)             (None, 1)                 7         \n",
      "                                                                 \n",
      "=================================================================\n",
      "Total params: 437453 (1.67 MB)\n",
      "Trainable params: 437453 (1.67 MB)\n",
      "Non-trainable params: 0 (0.00 Byte)\n",
      "_________________________________________________________________\n"
     ]
    }
   ],
   "source": [
    "model.summary()"
   ]
  },
  {
   "cell_type": "code",
   "execution_count": 10,
   "id": "e8951fab",
   "metadata": {
    "execution": {
     "iopub.execute_input": "2023-11-24T23:27:16.318200Z",
     "iopub.status.busy": "2023-11-24T23:27:16.317402Z",
     "iopub.status.idle": "2023-11-24T23:27:16.321701Z",
     "shell.execute_reply": "2023-11-24T23:27:16.320699Z"
    },
    "papermill": {
     "duration": 0.020603,
     "end_time": "2023-11-24T23:27:16.323875",
     "exception": false,
     "start_time": "2023-11-24T23:27:16.303272",
     "status": "completed"
    },
    "tags": []
   },
   "outputs": [],
   "source": [
    "# Lines below will give you a hint or solution code\n",
    "#q_1.hint()\n",
    "#q_1.solution()"
   ]
  },
  {
   "cell_type": "markdown",
   "id": "5255387c",
   "metadata": {
    "papermill": {
     "duration": 0.012355,
     "end_time": "2023-11-24T23:27:16.349221",
     "exception": false,
     "start_time": "2023-11-24T23:27:16.336866",
     "status": "completed"
    },
    "tags": []
   },
   "source": [
    "# 2) Compile #\n",
    "\n",
    "To prepare for training, compile the model with an appropriate loss and accuracy metric for the \"Car or Truck\" dataset."
   ]
  },
  {
   "cell_type": "code",
   "execution_count": 11,
   "id": "6843e170",
   "metadata": {
    "execution": {
     "iopub.execute_input": "2023-11-24T23:27:16.377118Z",
     "iopub.status.busy": "2023-11-24T23:27:16.376433Z",
     "iopub.status.idle": "2023-11-24T23:27:16.397412Z",
     "shell.execute_reply": "2023-11-24T23:27:16.396380Z"
    },
    "lines_to_next_cell": 0,
    "papermill": {
     "duration": 0.037058,
     "end_time": "2023-11-24T23:27:16.399497",
     "exception": false,
     "start_time": "2023-11-24T23:27:16.362439",
     "status": "completed"
    },
    "tags": []
   },
   "outputs": [
    {
     "data": {
      "application/javascript": [
       "parent.postMessage({\"jupyterEvent\": \"custom.exercise_interaction\", \"data\": {\"outcomeType\": 1, \"valueTowardsCompletion\": 0.3333333333333333, \"interactionType\": 1, \"questionType\": 2, \"questionId\": \"2_Q2\", \"learnToolsVersion\": \"0.3.4\", \"failureMessage\": \"\", \"exceptionClass\": \"\", \"trace\": \"\"}}, \"*\")"
      ],
      "text/plain": [
       "<IPython.core.display.Javascript object>"
      ]
     },
     "metadata": {},
     "output_type": "display_data"
    },
    {
     "data": {
      "text/markdown": [
       "<span style=\"color:#33cc33\">Correct</span>"
      ],
      "text/plain": [
       "Correct"
      ]
     },
     "metadata": {},
     "output_type": "display_data"
    }
   ],
   "source": [
    "model.compile(\n",
    "    optimizer=tf.keras.optimizers.Adam(epsilon=0.01),\n",
    "    loss='binary_crossentropy',\n",
    "    metrics=['binary_accuracy']\n",
    ")\n",
    "\n",
    "# Check your answer\n",
    "q_2.check()"
   ]
  },
  {
   "cell_type": "code",
   "execution_count": 12,
   "id": "4f1f7f24",
   "metadata": {
    "execution": {
     "iopub.execute_input": "2023-11-24T23:27:16.428362Z",
     "iopub.status.busy": "2023-11-24T23:27:16.427372Z",
     "iopub.status.idle": "2023-11-24T23:27:16.443677Z",
     "shell.execute_reply": "2023-11-24T23:27:16.442650Z"
    },
    "lines_to_next_cell": 0,
    "papermill": {
     "duration": 0.032921,
     "end_time": "2023-11-24T23:27:16.445837",
     "exception": false,
     "start_time": "2023-11-24T23:27:16.412916",
     "status": "completed"
    },
    "tags": []
   },
   "outputs": [
    {
     "data": {
      "application/javascript": [
       "parent.postMessage({\"jupyterEvent\": \"custom.exercise_interaction\", \"data\": {\"outcomeType\": 1, \"valueTowardsCompletion\": 0.3333333333333333, \"interactionType\": 1, \"questionType\": 2, \"questionId\": \"2_Q2\", \"learnToolsVersion\": \"0.3.4\", \"failureMessage\": \"\", \"exceptionClass\": \"\", \"trace\": \"\"}}, \"*\")"
      ],
      "text/plain": [
       "<IPython.core.display.Javascript object>"
      ]
     },
     "metadata": {},
     "output_type": "display_data"
    },
    {
     "data": {
      "text/markdown": [
       "<span style=\"color:#33cc33\">Correct</span>"
      ],
      "text/plain": [
       "Correct"
      ]
     },
     "metadata": {},
     "output_type": "display_data"
    }
   ],
   "source": [
    "model.compile(\n",
    "    optimizer=tf.keras.optimizers.Adam(epsilon=0.01),\n",
    "    loss='binary_crossentropy',\n",
    "    metrics=['binary_accuracy'],\n",
    ")\n",
    "q_2.assert_check_passed()"
   ]
  },
  {
   "cell_type": "code",
   "execution_count": 13,
   "id": "7b0f7292",
   "metadata": {
    "execution": {
     "iopub.execute_input": "2023-11-24T23:27:16.476230Z",
     "iopub.status.busy": "2023-11-24T23:27:16.475511Z",
     "iopub.status.idle": "2023-11-24T23:27:16.479596Z",
     "shell.execute_reply": "2023-11-24T23:27:16.478693Z"
    },
    "lines_to_next_cell": 0,
    "papermill": {
     "duration": 0.020951,
     "end_time": "2023-11-24T23:27:16.481507",
     "exception": false,
     "start_time": "2023-11-24T23:27:16.460556",
     "status": "completed"
    },
    "tags": []
   },
   "outputs": [],
   "source": [
    "# Lines below will give you a hint or solution code\n",
    "#q_2.hint()\n",
    "#q_2.solution()"
   ]
  },
  {
   "cell_type": "markdown",
   "id": "d82ede93",
   "metadata": {
    "papermill": {
     "duration": 0.013329,
     "end_time": "2023-11-24T23:27:16.508399",
     "exception": false,
     "start_time": "2023-11-24T23:27:16.495070",
     "status": "completed"
    },
    "tags": []
   },
   "source": [
    "Finally, let's test the performance of this new model. First run this cell to fit the model to the training set."
   ]
  },
  {
   "cell_type": "code",
   "execution_count": 14,
   "id": "1b9217ab",
   "metadata": {
    "execution": {
     "iopub.execute_input": "2023-11-24T23:27:16.536826Z",
     "iopub.status.busy": "2023-11-24T23:27:16.536409Z",
     "iopub.status.idle": "2023-11-24T23:30:21.351537Z",
     "shell.execute_reply": "2023-11-24T23:30:21.350639Z"
    },
    "papermill": {
     "duration": 184.83217,
     "end_time": "2023-11-24T23:30:21.354050",
     "exception": false,
     "start_time": "2023-11-24T23:27:16.521880",
     "status": "completed"
    },
    "tags": []
   },
   "outputs": [
    {
     "name": "stdout",
     "output_type": "stream",
     "text": [
      "Epoch 1/50\n",
      "80/80 [==============================] - 19s 121ms/step - loss: 0.6776 - binary_accuracy: 0.5720 - val_loss: 0.6631 - val_binary_accuracy: 0.5785\n",
      "Epoch 2/50\n",
      "80/80 [==============================] - 3s 41ms/step - loss: 0.6663 - binary_accuracy: 0.5787 - val_loss: 0.6570 - val_binary_accuracy: 0.5785\n",
      "Epoch 3/50\n",
      "80/80 [==============================] - 3s 41ms/step - loss: 0.6622 - binary_accuracy: 0.5787 - val_loss: 0.6523 - val_binary_accuracy: 0.5785\n",
      "Epoch 4/50\n",
      "80/80 [==============================] - 3s 41ms/step - loss: 0.6587 - binary_accuracy: 0.5787 - val_loss: 0.6477 - val_binary_accuracy: 0.5785\n",
      "Epoch 5/50\n",
      "80/80 [==============================] - 3s 41ms/step - loss: 0.6525 - binary_accuracy: 0.5830 - val_loss: 0.6417 - val_binary_accuracy: 0.5874\n",
      "Epoch 6/50\n",
      "80/80 [==============================] - 3s 41ms/step - loss: 0.6420 - binary_accuracy: 0.6312 - val_loss: 0.6326 - val_binary_accuracy: 0.6359\n",
      "Epoch 7/50\n",
      "80/80 [==============================] - 3s 42ms/step - loss: 0.6361 - binary_accuracy: 0.6398 - val_loss: 0.6264 - val_binary_accuracy: 0.6428\n",
      "Epoch 8/50\n",
      "80/80 [==============================] - 3s 41ms/step - loss: 0.6331 - binary_accuracy: 0.6432 - val_loss: 0.6267 - val_binary_accuracy: 0.6343\n",
      "Epoch 9/50\n",
      "80/80 [==============================] - 3s 41ms/step - loss: 0.6271 - binary_accuracy: 0.6529 - val_loss: 0.6153 - val_binary_accuracy: 0.6500\n",
      "Epoch 10/50\n",
      "80/80 [==============================] - 3s 41ms/step - loss: 0.6085 - binary_accuracy: 0.6627 - val_loss: 0.5962 - val_binary_accuracy: 0.6743\n",
      "Epoch 11/50\n",
      "80/80 [==============================] - 3s 41ms/step - loss: 0.6025 - binary_accuracy: 0.6727 - val_loss: 0.5805 - val_binary_accuracy: 0.6915\n",
      "Epoch 12/50\n",
      "80/80 [==============================] - 3s 42ms/step - loss: 0.5853 - binary_accuracy: 0.6932 - val_loss: 0.5794 - val_binary_accuracy: 0.6987\n",
      "Epoch 13/50\n",
      "80/80 [==============================] - 3s 42ms/step - loss: 0.5700 - binary_accuracy: 0.7057 - val_loss: 0.5554 - val_binary_accuracy: 0.7246\n",
      "Epoch 14/50\n",
      "80/80 [==============================] - 3s 41ms/step - loss: 0.5548 - binary_accuracy: 0.7190 - val_loss: 0.5515 - val_binary_accuracy: 0.7169\n",
      "Epoch 15/50\n",
      "80/80 [==============================] - 3s 41ms/step - loss: 0.5360 - binary_accuracy: 0.7375 - val_loss: 0.5235 - val_binary_accuracy: 0.7371\n",
      "Epoch 16/50\n",
      "80/80 [==============================] - 3s 41ms/step - loss: 0.5134 - binary_accuracy: 0.7512 - val_loss: 0.5112 - val_binary_accuracy: 0.7488\n",
      "Epoch 17/50\n",
      "80/80 [==============================] - 3s 42ms/step - loss: 0.4868 - binary_accuracy: 0.7708 - val_loss: 0.5303 - val_binary_accuracy: 0.7393\n",
      "Epoch 18/50\n",
      "80/80 [==============================] - 3s 41ms/step - loss: 0.4716 - binary_accuracy: 0.7755 - val_loss: 0.4626 - val_binary_accuracy: 0.7806\n",
      "Epoch 19/50\n",
      "80/80 [==============================] - 3s 41ms/step - loss: 0.4360 - binary_accuracy: 0.7909 - val_loss: 0.4860 - val_binary_accuracy: 0.7709\n",
      "Epoch 20/50\n",
      "80/80 [==============================] - 3s 41ms/step - loss: 0.4098 - binary_accuracy: 0.8147 - val_loss: 0.4579 - val_binary_accuracy: 0.7939\n",
      "Epoch 21/50\n",
      "80/80 [==============================] - 3s 41ms/step - loss: 0.3801 - binary_accuracy: 0.8312 - val_loss: 0.5413 - val_binary_accuracy: 0.7632\n",
      "Epoch 22/50\n",
      "80/80 [==============================] - 3s 41ms/step - loss: 0.3606 - binary_accuracy: 0.8417 - val_loss: 0.5067 - val_binary_accuracy: 0.7806\n",
      "Epoch 23/50\n",
      "80/80 [==============================] - 3s 41ms/step - loss: 0.3421 - binary_accuracy: 0.8440 - val_loss: 0.4540 - val_binary_accuracy: 0.8068\n",
      "Epoch 24/50\n",
      "80/80 [==============================] - 3s 41ms/step - loss: 0.3358 - binary_accuracy: 0.8411 - val_loss: 0.4543 - val_binary_accuracy: 0.7927\n",
      "Epoch 25/50\n",
      "80/80 [==============================] - 3s 41ms/step - loss: 0.3051 - binary_accuracy: 0.8616 - val_loss: 0.4829 - val_binary_accuracy: 0.7478\n",
      "Epoch 26/50\n",
      "80/80 [==============================] - 3s 41ms/step - loss: 0.2912 - binary_accuracy: 0.8683 - val_loss: 0.6381 - val_binary_accuracy: 0.6777\n",
      "Epoch 27/50\n",
      "80/80 [==============================] - 3s 41ms/step - loss: 0.3031 - binary_accuracy: 0.8638 - val_loss: 0.5370 - val_binary_accuracy: 0.7492\n",
      "Epoch 28/50\n",
      "80/80 [==============================] - 3s 41ms/step - loss: 0.2762 - binary_accuracy: 0.8730 - val_loss: 0.4435 - val_binary_accuracy: 0.8068\n",
      "Epoch 29/50\n",
      "80/80 [==============================] - 3s 41ms/step - loss: 0.2595 - binary_accuracy: 0.8839 - val_loss: 0.4331 - val_binary_accuracy: 0.8327\n",
      "Epoch 30/50\n",
      "80/80 [==============================] - 3s 41ms/step - loss: 0.2419 - binary_accuracy: 0.8964 - val_loss: 0.4547 - val_binary_accuracy: 0.8297\n",
      "Epoch 31/50\n",
      "80/80 [==============================] - 3s 41ms/step - loss: 0.2187 - binary_accuracy: 0.8994 - val_loss: 0.5394 - val_binary_accuracy: 0.8109\n",
      "Epoch 32/50\n",
      "80/80 [==============================] - 3s 41ms/step - loss: 0.2029 - binary_accuracy: 0.9095 - val_loss: 0.7806 - val_binary_accuracy: 0.7684\n",
      "Epoch 33/50\n",
      "80/80 [==============================] - 3s 41ms/step - loss: 0.1926 - binary_accuracy: 0.9152 - val_loss: 0.8337 - val_binary_accuracy: 0.7812\n",
      "Epoch 34/50\n",
      "80/80 [==============================] - 3s 41ms/step - loss: 0.1845 - binary_accuracy: 0.9220 - val_loss: 0.5880 - val_binary_accuracy: 0.8256\n",
      "Epoch 35/50\n",
      "80/80 [==============================] - 3s 42ms/step - loss: 0.1708 - binary_accuracy: 0.9242 - val_loss: 0.5668 - val_binary_accuracy: 0.8337\n",
      "Epoch 36/50\n",
      "80/80 [==============================] - 3s 42ms/step - loss: 0.1625 - binary_accuracy: 0.9314 - val_loss: 0.8070 - val_binary_accuracy: 0.8000\n",
      "Epoch 37/50\n",
      "80/80 [==============================] - 3s 41ms/step - loss: 0.1500 - binary_accuracy: 0.9316 - val_loss: 0.6918 - val_binary_accuracy: 0.8091\n",
      "Epoch 38/50\n",
      "80/80 [==============================] - 3s 41ms/step - loss: 0.1456 - binary_accuracy: 0.9357 - val_loss: 0.9421 - val_binary_accuracy: 0.7806\n",
      "Epoch 39/50\n",
      "80/80 [==============================] - 3s 41ms/step - loss: 0.1476 - binary_accuracy: 0.9359 - val_loss: 0.9103 - val_binary_accuracy: 0.7967\n",
      "Epoch 40/50\n",
      "80/80 [==============================] - 3s 41ms/step - loss: 0.1352 - binary_accuracy: 0.9375 - val_loss: 0.7253 - val_binary_accuracy: 0.8141\n",
      "Epoch 41/50\n",
      "80/80 [==============================] - 3s 41ms/step - loss: 0.1551 - binary_accuracy: 0.9296 - val_loss: 0.4866 - val_binary_accuracy: 0.8299\n",
      "Epoch 42/50\n",
      "80/80 [==============================] - 3s 41ms/step - loss: 0.1296 - binary_accuracy: 0.9388 - val_loss: 0.5690 - val_binary_accuracy: 0.8386\n",
      "Epoch 43/50\n",
      "80/80 [==============================] - 3s 41ms/step - loss: 0.1249 - binary_accuracy: 0.9404 - val_loss: 0.5983 - val_binary_accuracy: 0.8121\n",
      "Epoch 44/50\n",
      "80/80 [==============================] - 3s 42ms/step - loss: 0.1158 - binary_accuracy: 0.9476 - val_loss: 0.6908 - val_binary_accuracy: 0.8010\n",
      "Epoch 45/50\n",
      "80/80 [==============================] - 3s 41ms/step - loss: 0.0969 - binary_accuracy: 0.9539 - val_loss: 0.6255 - val_binary_accuracy: 0.8248\n",
      "Epoch 46/50\n",
      "80/80 [==============================] - 3s 41ms/step - loss: 0.0888 - binary_accuracy: 0.9566 - val_loss: 0.5882 - val_binary_accuracy: 0.8491\n",
      "Epoch 47/50\n",
      "80/80 [==============================] - 3s 41ms/step - loss: 0.0850 - binary_accuracy: 0.9549 - val_loss: 0.5841 - val_binary_accuracy: 0.8412\n",
      "Epoch 48/50\n",
      "80/80 [==============================] - 3s 41ms/step - loss: 0.0790 - binary_accuracy: 0.9611 - val_loss: 0.5979 - val_binary_accuracy: 0.8432\n",
      "Epoch 49/50\n",
      "80/80 [==============================] - 3s 41ms/step - loss: 0.0757 - binary_accuracy: 0.9607 - val_loss: 0.6098 - val_binary_accuracy: 0.8537\n",
      "Epoch 50/50\n",
      "80/80 [==============================] - 3s 41ms/step - loss: 0.0658 - binary_accuracy: 0.9654 - val_loss: 0.7509 - val_binary_accuracy: 0.8515\n"
     ]
    }
   ],
   "source": [
    "history = model.fit(\n",
    "    ds_train,\n",
    "    validation_data=ds_valid,\n",
    "    epochs=50,\n",
    ")"
   ]
  },
  {
   "cell_type": "markdown",
   "id": "9232e6df",
   "metadata": {
    "papermill": {
     "duration": 0.187934,
     "end_time": "2023-11-24T23:30:21.747330",
     "exception": false,
     "start_time": "2023-11-24T23:30:21.559396",
     "status": "completed"
    },
    "tags": []
   },
   "source": [
    "And now run the cell below to plot the loss and metric curves for this training run."
   ]
  },
  {
   "cell_type": "code",
   "execution_count": 15,
   "id": "3fe6e06a",
   "metadata": {
    "execution": {
     "iopub.execute_input": "2023-11-24T23:30:22.129911Z",
     "iopub.status.busy": "2023-11-24T23:30:22.129542Z",
     "iopub.status.idle": "2023-11-24T23:30:23.107054Z",
     "shell.execute_reply": "2023-11-24T23:30:23.105959Z"
    },
    "papermill": {
     "duration": 1.172356,
     "end_time": "2023-11-24T23:30:23.109518",
     "exception": false,
     "start_time": "2023-11-24T23:30:21.937162",
     "status": "completed"
    },
    "tags": []
   },
   "outputs": [
    {
     "data": {
      "image/png": "[encoded data removed]",
      "text/plain": [
       "<Figure size 640x480 with 1 Axes>"
      ]
     },
     "metadata": {},
     "output_type": "display_data"
    },
    {
     "data": {
      "image/png": "[encoded data removed]",
      "text/plain": [
       "<Figure size 640x480 with 1 Axes>"
      ]
     },
     "metadata": {},
     "output_type": "display_data"
    }
   ],
   "source": [
    "import pandas as pd\n",
    "history_frame = pd.DataFrame(history.history)\n",
    "history_frame.loc[:, ['loss', 'val_loss']].plot()\n",
    "history_frame.loc[:, ['binary_accuracy', 'val_binary_accuracy']].plot();"
   ]
  },
  {
   "cell_type": "markdown",
   "id": "65c426b3",
   "metadata": {
    "papermill": {
     "duration": 0.182804,
     "end_time": "2023-11-24T23:30:23.481040",
     "exception": false,
     "start_time": "2023-11-24T23:30:23.298236",
     "status": "completed"
    },
    "tags": []
   },
   "source": [
    "# 3) Train the Model #\n",
    "\n",
    "How would you interpret these training curves? Did this model improve upon the model from the tutorial?"
   ]
  },
  {
   "cell_type": "code",
   "execution_count": 16,
   "id": "605239a8",
   "metadata": {
    "execution": {
     "iopub.execute_input": "2023-11-24T23:30:23.856134Z",
     "iopub.status.busy": "2023-11-24T23:30:23.855715Z",
     "iopub.status.idle": "2023-11-24T23:30:23.864572Z",
     "shell.execute_reply": "2023-11-24T23:30:23.863643Z"
    },
    "lines_to_next_cell": 0,
    "papermill": {
     "duration": 0.198407,
     "end_time": "2023-11-24T23:30:23.866577",
     "exception": false,
     "start_time": "2023-11-24T23:30:23.668170",
     "status": "completed"
    },
    "tags": []
   },
   "outputs": [
    {
     "data": {
      "application/javascript": [
       "parent.postMessage({\"jupyterEvent\": \"custom.exercise_interaction\", \"data\": {\"outcomeType\": 1, \"valueTowardsCompletion\": 0.3333333333333333, \"interactionType\": 1, \"questionType\": 4, \"questionId\": \"3_Q3\", \"learnToolsVersion\": \"0.3.4\", \"failureMessage\": \"\", \"exceptionClass\": \"\", \"trace\": \"\"}}, \"*\")"
      ],
      "text/plain": [
       "<IPython.core.display.Javascript object>"
      ]
     },
     "metadata": {},
     "output_type": "display_data"
    },
    {
     "data": {
      "text/markdown": [
       "<span style=\"color:#33cc33\">Correct:</span> \n",
       "\n",
       "\n",
       "The learning curves for the model from the tutorial diverged fairly rapidly. This would indicate that it was prone to overfitting and in need of some regularization. The additional layer in our new model would make it even more prone to overfitting. However, adding some regularization with the `Dropout` layer helped prevent this. These changes improved the validation accuracy of the model by several points.\n"
      ],
      "text/plain": [
       "Correct: \n",
       "\n",
       "\n",
       "The learning curves for the model from the tutorial diverged fairly rapidly. This would indicate that it was prone to overfitting and in need of some regularization. The additional layer in our new model would make it even more prone to overfitting. However, adding some regularization with the `Dropout` layer helped prevent this. These changes improved the validation accuracy of the model by several points."
      ]
     },
     "metadata": {},
     "output_type": "display_data"
    }
   ],
   "source": [
    "# View the solution (Run this code cell to receive credit!)\n",
    "q_3.check()"
   ]
  },
  {
   "cell_type": "markdown",
   "id": "2987b701",
   "metadata": {
    "papermill": {
     "duration": 0.182321,
     "end_time": "2023-11-24T23:30:24.234427",
     "exception": false,
     "start_time": "2023-11-24T23:30:24.052106",
     "status": "completed"
    },
    "tags": []
   },
   "source": [
    "# Conclusion #\n",
    "\n",
    "These exercises showed you how to design a custom convolutional network to solve a specific classification problem. Though most models these days will be built on top of a pretrained base, it certain circumstances a smaller custom convnet might still be preferable -- such as with a smaller or unusual dataset or when computing resources are very limited. As you saw here, for certain problems they can perform just as well as a pretrained model.\n",
    "\n",
    "# Keep Going #\n",
    "\n",
    "Continue on to [**Lesson 6**](https://www.kaggle.com/ryanholbrook/data-augmentation), where you'll learn a widely-used technique that can give a boost to your training data: **data augmentation**."
   ]
  },
  {
   "cell_type": "markdown",
   "id": "b8674311",
   "metadata": {
    "papermill": {
     "duration": 0.185042,
     "end_time": "2023-11-24T23:30:24.603422",
     "exception": false,
     "start_time": "2023-11-24T23:30:24.418380",
     "status": "completed"
    },
    "tags": []
   },
   "source": [
    "---\n",
    "\n",
    "\n",
    "\n",
    "\n",
    "*Have questions or comments? Visit the [course discussion forum](https://www.kaggle.com/learn/computer-vision/discussion) to chat with other learners.*"
   ]
  }
 ],
 "metadata": {
  "jupytext": {
   "formats": "md,ipynb"
  },
  "kaggle": {
   "accelerator": "gpu",
   "dataSources": [
    {
     "datasetId": 708136,
     "sourceId": 1338830,
     "sourceType": "datasetVersion"
    },
    {
     "datasetId": 701538,
     "sourceId": 1363948,
     "sourceType": "datasetVersion"
    },
    {
     "datasetId": 878523,
     "sourceId": 1495782,
     "sourceType": "datasetVersion"
    }
   ],
   "isGpuEnabled": true,
   "isInternetEnabled": false,
   "language": "python",
   "sourceType": "notebook"
  },
  "kernelspec": {
   "display_name": "Python 3",
   "language": "python",
   "name": "python3"
  },
  "language_info": {
   "codemirror_mode": {
    "name": "ipython",
    "version": 3
   },
   "file_extension": ".py",
   "mimetype": "text/x-python",
   "name": "python",
   "nbconvert_exporter": "python",
   "pygments_lexer": "ipython3",
   "version": "3.10.12"
  },
  "papermill": {
   "default_parameters": {},
   "duration": 214.767796,
   "end_time": "2023-11-24T23:30:27.833717",
   "environment_variables": {},
   "exception": null,
   "input_path": "__notebook__.ipynb",
   "output_path": "__notebook__.ipynb",
   "parameters": {},
   "start_time": "2023-11-24T23:26:53.065921",
   "version": "2.4.0"
  }
 },
 "nbformat": 4,
 "nbformat_minor": 5
}
